{
 "cells": [
  {
   "cell_type": "markdown",
   "id": "c11a9717",
   "metadata": {},
   "source": [
    "# Age Calculater using python"
   ]
  },
  {
   "cell_type": "code",
   "execution_count": 2,
   "id": "eaf42eaa",
   "metadata": {},
   "outputs": [
    {
     "name": "stdout",
     "output_type": "stream",
     "text": [
      "Defaulting to user installation because normal site-packages is not writeable\n",
      "Requirement already satisfied: tk in c:\\users\\jeman\\appdata\\roaming\\python\\python310\\site-packages (0.1.0)\n",
      "Note: you may need to restart the kernel to use updated packages.\n"
     ]
    }
   ],
   "source": [
    "pip install tk"
   ]
  },
  {
   "cell_type": "code",
   "execution_count": null,
   "id": "0496d5d7",
   "metadata": {},
   "outputs": [],
   "source": [
    "from tkinter import *\n",
    "from datetime import date\n",
    "root = Tk()\n",
    "root.geometry(\"700x500\")\n",
    "root.title(\"Age Calculator\")\n",
    "\n",
    "def calculateAge():\n",
    "    today = date.today()\n",
    "    birthDate = date(int(yearEntry.get()), int(monthEntry.get()), int(dayEntry.get()))\n",
    "    age = today.year - birthDate.year - ((today.month, today.day) < (birthDate.month, birthDate.day))\n",
    "    Label(text=f\"{nameValue.get()} your age is {age}\").grid(row=6, column=1)\n",
    "    \n",
    "Label(text=\"Name\").grid(row=1, column=0, padx=90)\n",
    "Label(text=\"Year\").grid(row=2, column=0)\n",
    "Label(text=\"Month\").grid(row=3, column=0)\n",
    "Label(text=\"Day\").grid(row=4, column=0)\n",
    "\n",
    "nameValue = StringVar()\n",
    "yearValue = StringVar()\n",
    "monthValue = StringVar()\n",
    "dayValue = StringVar()\n",
    "\n",
    "nameEntry = Entry(root, textvariable=nameValue)\n",
    "yearEntry = Entry(root, textvariable=yearValue)\n",
    "monthEntry = Entry(root, textvariable=monthValue)\n",
    "dayEntry = Entry(root, textvariable=dayValue)\n",
    "\n",
    "nameEntry.grid(row=1, column=1, pady=10)\n",
    "yearEntry.grid(row=2, column=1, pady=10)\n",
    "monthEntry.grid(row=3, column=1, pady=10)\n",
    "dayEntry.grid(row=4, column=1, pady=10)\n",
    "\n",
    "computeButton = Button(text=\"CalculateAge\", command=calculateAge)\n",
    "computeButton.grid(row=5, column=1, pady=10)\n",
    "root.mainloop()"
   ]
  },
  {
   "cell_type": "code",
   "execution_count": null,
   "id": "76bb8675",
   "metadata": {},
   "outputs": [],
   "source": []
  }
 ],
 "metadata": {
  "kernelspec": {
   "display_name": "Python 3 (ipykernel)",
   "language": "python",
   "name": "python3"
  },
  "language_info": {
   "codemirror_mode": {
    "name": "ipython",
    "version": 3
   },
   "file_extension": ".py",
   "mimetype": "text/x-python",
   "name": "python",
   "nbconvert_exporter": "python",
   "pygments_lexer": "ipython3",
   "version": "3.10.9"
  }
 },
 "nbformat": 4,
 "nbformat_minor": 5
}
